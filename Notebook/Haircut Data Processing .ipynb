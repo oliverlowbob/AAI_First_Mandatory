{
 "cells": [
  {
   "cell_type": "code",
   "execution_count": 1,
   "id": "93001bab",
   "metadata": {},
   "outputs": [
    {
     "name": "stderr",
     "output_type": "stream",
     "text": [
      "c:\\users\\olive\\documents\\6. semester\\mandatories\\aai_first_mandatory\\.venv\\lib\\site-packages\\openpyxl\\worksheet\\_reader.py:312: UserWarning: Unknown extension is not supported and will be removed\n",
      "  warn(msg)\n"
     ]
    }
   ],
   "source": [
    "import pandas as pd\n",
    "\n",
    "df = pd.read_excel('.\\Dataset\\Haircut Tip Amounts.xlsx', 'Sheet1', skiprows=2)"
   ]
  },
  {
   "cell_type": "code",
   "execution_count": 2,
   "id": "12456de6",
   "metadata": {},
   "outputs": [
    {
     "name": "stdout",
     "output_type": "stream",
     "text": [
      "    Tip amount  Time   Day Culture Married   Age  Unnamed: 6  Unnamed: 7  \\\n",
      "0            0   5.0   Fri       I      NM  30.0         NaN         NaN   \n",
      "1            1   2.0   Tue       E      NM  10.0         NaN         NaN   \n",
      "2            1   7.0  Tues       I      NM  35.0         NaN         NaN   \n",
      "3            2   5.0   Mon       I      NM  35.0         NaN         NaN   \n",
      "4            2  12.0   Fri       M      NM  15.0         NaN         NaN   \n",
      "..         ...   ...   ...     ...     ...   ...         ...         ...   \n",
      "229         10   1.0   Sat       W       M  40.0         NaN         NaN   \n",
      "230          1  13.0   Sat       I      NM  10.0         NaN         NaN   \n",
      "231          5  14.0   Sat       W       M  36.0         NaN         NaN   \n",
      "232          3  15.0   Sat       W      NM   8.0         NaN         NaN   \n",
      "233          5  16.0   Fri       I      NM  35.0         NaN         NaN   \n",
      "\n",
      "    Culture Codes        Unnamed: 9  \n",
      "0               I            Indian  \n",
      "1               E          European  \n",
      "2               B  African American  \n",
      "3               W          American  \n",
      "4               P        Phillipino  \n",
      "..            ...               ...  \n",
      "229           NaN               NaN  \n",
      "230           NaN               NaN  \n",
      "231           NaN               NaN  \n",
      "232           NaN               NaN  \n",
      "233           NaN               NaN  \n",
      "\n",
      "[234 rows x 10 columns]\n"
     ]
    }
   ],
   "source": [
    "print(df)"
   ]
  },
  {
   "cell_type": "code",
   "execution_count": 3,
   "id": "f16e2b8a",
   "metadata": {},
   "outputs": [
    {
     "name": "stdout",
     "output_type": "stream",
     "text": [
      "    Tip amount  Time   Day Culture Married   Age\n",
      "0            0   5.0   Fri       I      NM  30.0\n",
      "1            1   2.0   Tue       E      NM  10.0\n",
      "2            1   7.0  Tues       I      NM  35.0\n",
      "3            2   5.0   Mon       I      NM  35.0\n",
      "4            2  12.0   Fri       M      NM  15.0\n",
      "..         ...   ...   ...     ...     ...   ...\n",
      "229         10   1.0   Sat       W       M  40.0\n",
      "230          1  13.0   Sat       I      NM  10.0\n",
      "231          5  14.0   Sat       W       M  36.0\n",
      "232          3  15.0   Sat       W      NM   8.0\n",
      "233          5  16.0   Fri       I      NM  35.0\n",
      "\n",
      "[234 rows x 6 columns]\n"
     ]
    }
   ],
   "source": [
    "df.drop('Culture Codes', inplace=True, axis=1)\n",
    "df.drop('Unnamed: 9', inplace=True, axis=1)\n",
    "df.drop('Unnamed: 6', inplace=True, axis=1)\n",
    "df.drop('Unnamed: 7', inplace=True, axis=1)\n",
    "\n",
    "print(df)"
   ]
  },
  {
   "cell_type": "code",
   "execution_count": 6,
   "id": "c6ffcaef",
   "metadata": {},
   "outputs": [
    {
     "data": {
      "text/html": [
       "<div>\n",
       "<style scoped>\n",
       "    .dataframe tbody tr th:only-of-type {\n",
       "        vertical-align: middle;\n",
       "    }\n",
       "\n",
       "    .dataframe tbody tr th {\n",
       "        vertical-align: top;\n",
       "    }\n",
       "\n",
       "    .dataframe thead th {\n",
       "        text-align: right;\n",
       "    }\n",
       "</style>\n",
       "<table border=\"1\" class=\"dataframe\">\n",
       "  <thead>\n",
       "    <tr style=\"text-align: right;\">\n",
       "      <th></th>\n",
       "      <th>Tip amount</th>\n",
       "      <th>Time</th>\n",
       "      <th>Day</th>\n",
       "      <th>Culture</th>\n",
       "      <th>Married</th>\n",
       "      <th>Age</th>\n",
       "    </tr>\n",
       "  </thead>\n",
       "  <tbody>\n",
       "    <tr>\n",
       "      <th>114</th>\n",
       "      <td>NaN</td>\n",
       "      <td>NaN</td>\n",
       "      <td>NaN</td>\n",
       "      <td>NaN</td>\n",
       "      <td>NaN</td>\n",
       "      <td>NaN</td>\n",
       "    </tr>\n",
       "    <tr>\n",
       "      <th>115</th>\n",
       "      <td>THE DATA BELOW THIS POINT IS FORMATTED MUCH CL...</td>\n",
       "      <td>NaN</td>\n",
       "      <td>NaN</td>\n",
       "      <td>NaN</td>\n",
       "      <td>NaN</td>\n",
       "      <td>NaN</td>\n",
       "    </tr>\n",
       "  </tbody>\n",
       "</table>\n",
       "</div>"
      ],
      "text/plain": [
       "                                            Tip amount  Time  Day Culture  \\\n",
       "114                                                NaN   NaN  NaN     NaN   \n",
       "115  THE DATA BELOW THIS POINT IS FORMATTED MUCH CL...   NaN  NaN     NaN   \n",
       "\n",
       "    Married  Age  \n",
       "114     NaN  NaN  \n",
       "115     NaN  NaN  "
      ]
     },
     "execution_count": 6,
     "metadata": {},
     "output_type": "execute_result"
    }
   ],
   "source": [
    "df.iloc[[114, 115]]"
   ]
  },
  {
   "cell_type": "code",
   "execution_count": 7,
   "id": "dbfa10c0",
   "metadata": {},
   "outputs": [],
   "source": [
    "df.dropna(subset = [\"Day\"], inplace=True)"
   ]
  },
  {
   "cell_type": "code",
   "execution_count": 8,
   "id": "35eb3ab6",
   "metadata": {
    "scrolled": true
   },
   "outputs": [
    {
     "data": {
      "text/html": [
       "<div>\n",
       "<style scoped>\n",
       "    .dataframe tbody tr th:only-of-type {\n",
       "        vertical-align: middle;\n",
       "    }\n",
       "\n",
       "    .dataframe tbody tr th {\n",
       "        vertical-align: top;\n",
       "    }\n",
       "\n",
       "    .dataframe thead th {\n",
       "        text-align: right;\n",
       "    }\n",
       "</style>\n",
       "<table border=\"1\" class=\"dataframe\">\n",
       "  <thead>\n",
       "    <tr style=\"text-align: right;\">\n",
       "      <th></th>\n",
       "      <th>Tip amount</th>\n",
       "      <th>Time</th>\n",
       "      <th>Day</th>\n",
       "      <th>Culture</th>\n",
       "      <th>Married</th>\n",
       "      <th>Age</th>\n",
       "    </tr>\n",
       "  </thead>\n",
       "  <tbody>\n",
       "    <tr>\n",
       "      <th>116</th>\n",
       "      <td>20</td>\n",
       "      <td>10.0</td>\n",
       "      <td>mon</td>\n",
       "      <td>P</td>\n",
       "      <td>NM</td>\n",
       "      <td>30.0</td>\n",
       "    </tr>\n",
       "    <tr>\n",
       "      <th>117</th>\n",
       "      <td>5</td>\n",
       "      <td>11.0</td>\n",
       "      <td>mon</td>\n",
       "      <td>W</td>\n",
       "      <td>NM</td>\n",
       "      <td>16.0</td>\n",
       "    </tr>\n",
       "  </tbody>\n",
       "</table>\n",
       "</div>"
      ],
      "text/plain": [
       "    Tip amount  Time  Day Culture Married   Age\n",
       "116         20  10.0  mon       P      NM  30.0\n",
       "117          5  11.0  mon       W      NM  16.0"
      ]
     },
     "execution_count": 8,
     "metadata": {},
     "output_type": "execute_result"
    }
   ],
   "source": [
    "df.iloc[[114, 115]]"
   ]
  },
  {
   "cell_type": "code",
   "execution_count": 9,
   "id": "02d7b41d",
   "metadata": {},
   "outputs": [
    {
     "name": "stdout",
     "output_type": "stream",
     "text": [
      "    Tip amount  Time   Day Culture Married   Age\n",
      "0            0   5.0   Fri       I      NM  30.0\n",
      "1            1   2.0   Tue       E      NM  10.0\n",
      "2            1   7.0  Tues       I      NM  35.0\n",
      "3            2   5.0   Mon       I      NM  35.0\n",
      "4            2  12.0   Fri       M      NM  15.0\n",
      "..         ...   ...   ...     ...     ...   ...\n",
      "229         10   1.0   Sat       W       M  40.0\n",
      "230          1  13.0   Sat       I      NM  10.0\n",
      "231          5  14.0   Sat       W       M  36.0\n",
      "232          3  15.0   Sat       W      NM   8.0\n",
      "233          5  16.0   Fri       I      NM  35.0\n",
      "\n",
      "[232 rows x 6 columns]\n"
     ]
    }
   ],
   "source": [
    "print(df)"
   ]
  },
  {
   "cell_type": "code",
   "execution_count": null,
   "id": "2ddf8c7c",
   "metadata": {},
   "outputs": [],
   "source": []
  }
 ],
 "metadata": {
  "kernelspec": {
   "display_name": "Python 3 (ipykernel)",
   "language": "python",
   "name": "python3"
  },
  "language_info": {
   "codemirror_mode": {
    "name": "ipython",
    "version": 3
   },
   "file_extension": ".py",
   "mimetype": "text/x-python",
   "name": "python",
   "nbconvert_exporter": "python",
   "pygments_lexer": "ipython3",
   "version": "3.8.2"
  }
 },
 "nbformat": 4,
 "nbformat_minor": 5
}
