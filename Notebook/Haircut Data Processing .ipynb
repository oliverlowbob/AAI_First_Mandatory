{
 "cells": [
  {
   "cell_type": "code",
   "execution_count": 1,
   "id": "3f8036ce",
   "metadata": {},
   "outputs": [
    {
     "name": "stderr",
     "output_type": "stream",
     "text": [
      "c:\\users\\olive\\documents\\6. semester\\mandatories\\aai_first_mandatory\\.venv\\lib\\site-packages\\openpyxl\\worksheet\\_reader.py:312: UserWarning: Unknown extension is not supported and will be removed\n",
      "  warn(msg)\n"
     ]
    }
   ],
   "source": [
    "import pandas as pd\n",
    "\n",
    "df = pd.read_excel('.\\Dataset\\Haircut Tip Amounts.xlsx', 'Sheet1', skiprows=2)"
   ]
  },
  {
   "cell_type": "code",
   "execution_count": 2,
   "id": "2c3a3565",
   "metadata": {},
   "outputs": [
    {
     "name": "stdout",
     "output_type": "stream",
     "text": [
      "    Tip amount  Time   Day Culture Married   Age  Unnamed: 6  Unnamed: 7  \\\n",
      "0            0   5.0   Fri       I      NM  30.0         NaN         NaN   \n",
      "1            1   2.0   Tue       E      NM  10.0         NaN         NaN   \n",
      "2            1   7.0  Tues       I      NM  35.0         NaN         NaN   \n",
      "3            2   5.0   Mon       I      NM  35.0         NaN         NaN   \n",
      "4            2  12.0   Fri       M      NM  15.0         NaN         NaN   \n",
      "..         ...   ...   ...     ...     ...   ...         ...         ...   \n",
      "229         10   1.0   Sat       W       M  40.0         NaN         NaN   \n",
      "230          1  13.0   Sat       I      NM  10.0         NaN         NaN   \n",
      "231          5  14.0   Sat       W       M  36.0         NaN         NaN   \n",
      "232          3  15.0   Sat       W      NM   8.0         NaN         NaN   \n",
      "233          5  16.0   Fri       I      NM  35.0         NaN         NaN   \n",
      "\n",
      "    Culture Codes        Unnamed: 9  \n",
      "0               I            Indian  \n",
      "1               E          European  \n",
      "2               B  African American  \n",
      "3               W          American  \n",
      "4               P        Phillipino  \n",
      "..            ...               ...  \n",
      "229           NaN               NaN  \n",
      "230           NaN               NaN  \n",
      "231           NaN               NaN  \n",
      "232           NaN               NaN  \n",
      "233           NaN               NaN  \n",
      "\n",
      "[234 rows x 10 columns]\n"
     ]
    }
   ],
   "source": [
    "print(df)"
   ]
  },
  {
   "cell_type": "code",
   "execution_count": 3,
   "id": "df89b621",
   "metadata": {},
   "outputs": [
    {
     "name": "stdout",
     "output_type": "stream",
     "text": [
      "    Tip amount  Time   Day Culture Married   Age\n",
      "0            0   5.0   Fri       I      NM  30.0\n",
      "1            1   2.0   Tue       E      NM  10.0\n",
      "2            1   7.0  Tues       I      NM  35.0\n",
      "3            2   5.0   Mon       I      NM  35.0\n",
      "4            2  12.0   Fri       M      NM  15.0\n",
      "..         ...   ...   ...     ...     ...   ...\n",
      "229         10   1.0   Sat       W       M  40.0\n",
      "230          1  13.0   Sat       I      NM  10.0\n",
      "231          5  14.0   Sat       W       M  36.0\n",
      "232          3  15.0   Sat       W      NM   8.0\n",
      "233          5  16.0   Fri       I      NM  35.0\n",
      "\n",
      "[234 rows x 6 columns]\n"
     ]
    }
   ],
   "source": [
    "df.drop('Culture Codes', inplace=True, axis=1)\n",
    "df.drop('Unnamed: 9', inplace=True, axis=1)\n",
    "df.drop('Unnamed: 6', inplace=True, axis=1)\n",
    "df.drop('Unnamed: 7', inplace=True, axis=1)\n",
    "\n",
    "print(df)"
   ]
  },
  {
   "cell_type": "code",
   "execution_count": 18,
   "id": "a89fd7e7",
   "metadata": {},
   "outputs": [
    {
     "data": {
      "text/plain": [
       "Tip amount    THE DATA BELOW THIS POINT IS FORMATTED MUCH CL...\n",
       "Time                                                        NaN\n",
       "Day                                                         NaN\n",
       "Culture                                                     NaN\n",
       "Married                                                     NaN\n",
       "Age                                                         NaN\n",
       "Name: 115, dtype: object"
      ]
     },
     "execution_count": 18,
     "metadata": {},
     "output_type": "execute_result"
    }
   ],
   "source": [
    "df.iloc[115,:]"
   ]
  }
 ],
 "metadata": {
  "kernelspec": {
   "display_name": "Python 3 (ipykernel)",
   "language": "python",
   "name": "python3"
  },
  "language_info": {
   "codemirror_mode": {
    "name": "ipython",
    "version": 3
   },
   "file_extension": ".py",
   "mimetype": "text/x-python",
   "name": "python",
   "nbconvert_exporter": "python",
   "pygments_lexer": "ipython3",
   "version": "3.8.2"
  }
 },
 "nbformat": 4,
 "nbformat_minor": 5
}
